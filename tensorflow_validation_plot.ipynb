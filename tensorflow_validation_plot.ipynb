{
 "cells": [
  {
   "cell_type": "code",
   "execution_count": 1,
   "id": "7f299456",
   "metadata": {},
   "outputs": [],
   "source": [
    "import matplotlib.pyplot as plt\n",
    "import matplotlib\n",
    "import numpy as np\n",
    "import os\n",
    "import PIL\n",
    "from PIL import Image\n",
    "import tensorflow as tf\n",
    "import pandas as pd\n",
    "import glob\n",
    "import datetime\n",
    "\n",
    "from utils import TrainingSetManager\n",
    "\n",
    "import time\n",
    "\n",
    "import random\n",
    "from random import shuffle\n",
    "import math\n",
    "\n",
    "from tensorflow import keras\n",
    "from tensorflow.keras import layers\n",
    "from tensorflow.keras.models import Sequential, Model\n",
    "from tensorflow.keras import initializers\n",
    "from keras import backend as K\n",
    "\n",
    "from os import walk\n",
    "import pickle\n",
    "import seaborn as sns\n",
    "from sklearn.neighbors import KNeighborsClassifier\n",
    "\n",
    "from tempfile import TemporaryFile\n",
    "\n",
    "from IPython.display import clear_output\n",
    "from tqdm.notebook import tqdm"
   ]
  },
  {
   "cell_type": "code",
   "execution_count": 2,
   "id": "47db7de5",
   "metadata": {},
   "outputs": [
    {
     "name": "stdout",
     "output_type": "stream",
     "text": [
      "Loaded grayscaled datasets\n",
      "48238\n"
     ]
    }
   ],
   "source": [
    "training_set_manager = TrainingSetManager()\n",
    "print(len(training_set_manager.validation_x))"
   ]
  },
  {
   "cell_type": "code",
   "execution_count": 3,
   "id": "f53146eb",
   "metadata": {},
   "outputs": [],
   "source": [
    "import logging\n",
    "\n",
    "os.environ['TF_CPP_MIN_LOG_LEVEL'] = '3'  # FATAL\n",
    "logging.getLogger('tensorflow').setLevel(logging.FATAL)"
   ]
  },
  {
   "cell_type": "markdown",
   "id": "72eaa156",
   "metadata": {},
   "source": [
    "# Validation Images"
   ]
  },
  {
   "cell_type": "code",
   "execution_count": 4,
   "id": "4a5e1f9d",
   "metadata": {},
   "outputs": [
    {
     "name": "stdout",
     "output_type": "stream",
     "text": [
      "48238\n"
     ]
    },
    {
     "data": {
      "image/png": "[encoded data removed]",
      "text/plain": [
       "<Figure size 1440x504 with 10 Axes>"
      ]
     },
     "metadata": {
      "needs_background": "light"
     },
     "output_type": "display_data"
    }
   ],
   "source": [
    "decoded_imgs = training_set_manager.validation_x\n",
    "print(len(decoded_imgs))\n",
    "n = 10\n",
    "start=10010\n",
    "\n",
    "plt.figure(figsize=(20, 7))\n",
    "for i in range(n):\n",
    "    # display reconstruction\n",
    "    bx = plt.subplot(3, n, i + n + 1)\n",
    "    plt.title(\"decoded_imgs\")\n",
    "    plt.imshow(tf.squeeze(decoded_imgs[start + i]))\n",
    "    plt.gray()\n",
    "    bx.get_xaxis().set_visible(False)\n",
    "    bx.get_yaxis().set_visible(False)\n",
    "\n",
    "    \n",
    "plt.show()"
   ]
  },
  {
   "cell_type": "code",
   "execution_count": null,
   "id": "5c6932b9",
   "metadata": {},
   "outputs": [],
   "source": []
  }
 ],
 "metadata": {
  "kernelspec": {
   "display_name": "Python 3 (ipykernel)",
   "language": "python",
   "name": "python3"
  },
  "language_info": {
   "codemirror_mode": {
    "name": "ipython",
    "version": 3
   },
   "file_extension": ".py",
   "mimetype": "text/x-python",
   "name": "python",
   "nbconvert_exporter": "python",
   "pygments_lexer": "ipython3",
   "version": "3.7.9"
  }
 },
 "nbformat": 4,
 "nbformat_minor": 5
}
