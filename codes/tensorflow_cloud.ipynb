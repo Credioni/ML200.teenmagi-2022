{
 "cells": [
  {
   "cell_type": "code",
   "execution_count": 22,
   "id": "29369c0e",
   "metadata": {},
   "outputs": [],
   "source": [
    "import tensorflow as tf\n",
    "tf.version.VERSION\n",
    "\n",
    "#import tensorflow_cloud as tfc\n",
    "import sys\n",
    "import numpy as np\n",
    "GCP_PROJECT_ID = 'tensorflow-teenmagi'\n",
    "PROJECT_NUMBER = '290742515134'"
   ]
  },
  {
   "cell_type": "code",
   "execution_count": 51,
   "id": "c6a9813c",
   "metadata": {},
   "outputs": [
    {
     "name": "stdout",
     "output_type": "stream",
     "text": [
      "((1, 1), (0, 0))\n"
     ]
    }
   ],
   "source": [
    "a = np.random.randint(0,2)\n",
    "a = (a, a)\n",
    "b = (0, 0)\n",
    "c = tuple([a, b])\n",
    "print(c)"
   ]
  },
  {
   "cell_type": "code",
   "execution_count": 58,
   "id": "9d0f445c",
   "metadata": {},
   "outputs": [
    {
     "name": "stdout",
     "output_type": "stream",
     "text": [
      "tf.Tensor(\n",
      "[[[[ 0]\n",
      "   [ 0]\n",
      "   [ 0]\n",
      "   [ 0]\n",
      "   [ 0]\n",
      "   [ 0]\n",
      "   [ 0]\n",
      "   [ 0]]\n",
      "\n",
      "  [[ 8]\n",
      "   [ 9]\n",
      "   [10]\n",
      "   [11]\n",
      "   [12]\n",
      "   [13]\n",
      "   [14]\n",
      "   [15]]\n",
      "\n",
      "  [[16]\n",
      "   [17]\n",
      "   [18]\n",
      "   [19]\n",
      "   [20]\n",
      "   [21]\n",
      "   [22]\n",
      "   [23]]\n",
      "\n",
      "  [[24]\n",
      "   [25]\n",
      "   [26]\n",
      "   [27]\n",
      "   [28]\n",
      "   [29]\n",
      "   [30]\n",
      "   [31]]\n",
      "\n",
      "  [[32]\n",
      "   [33]\n",
      "   [34]\n",
      "   [35]\n",
      "   [36]\n",
      "   [37]\n",
      "   [38]\n",
      "   [39]]\n",
      "\n",
      "  [[40]\n",
      "   [41]\n",
      "   [42]\n",
      "   [43]\n",
      "   [44]\n",
      "   [45]\n",
      "   [46]\n",
      "   [47]]\n",
      "\n",
      "  [[48]\n",
      "   [49]\n",
      "   [50]\n",
      "   [51]\n",
      "   [52]\n",
      "   [53]\n",
      "   [54]\n",
      "   [55]]\n",
      "\n",
      "  [[ 0]\n",
      "   [ 0]\n",
      "   [ 0]\n",
      "   [ 0]\n",
      "   [ 0]\n",
      "   [ 0]\n",
      "   [ 0]\n",
      "   [ 0]]]], shape=(1, 8, 8, 1), dtype=int32)\n"
     ]
    }
   ],
   "source": [
    "img = np.arange(64).reshape((1,8,8,1))\n",
    "\n",
    "def CropPad(x):\n",
    "    if np.random.rand() <= 0.5:\n",
    "        y = tf.keras.layers.Cropping2D(cropping=((1, 1), (0, 0)))(x)\n",
    "        y = tf.keras.layers.ZeroPadding2D(padding=((1, 1), (0, 0)))(y)\n",
    "    else:\n",
    "        y = tf.keras.layers.Cropping2D(cropping=((0, 0), (1, 1)))(x)\n",
    "        y = tf.keras.layers.ZeroPadding2D(padding=((0, 0), (1, 1)))(y)\n",
    "    return y\n",
    "\n",
    "Lambda(antirectifier)\n",
    "                                  \n",
    "print(y)"
   ]
  },
  {
   "cell_type": "code",
   "execution_count": 77,
   "id": "3eef37f9",
   "metadata": {},
   "outputs": [
    {
     "data": {
      "image/png": "[encoded data removed]",
      "text/plain": [
       "<Figure size 432x288 with 1 Axes>"
      ]
     },
     "metadata": {
      "needs_background": "light"
     },
     "output_type": "display_data"
    }
   ],
   "source": [
    "import matplotlib.pyplot as plt\n",
    "\n",
    "mu, sigma = 0, 0.7 # mean and standard deviation\n",
    "s = np.random.normal(0, 0.7, 1000)\n",
    "\n",
    "count, bins, ignored = plt.hist(s, 30, density=True)\n",
    "plt.plot(bins, 1/(sigma * np.sqrt(2 * np.pi)) *\n",
    "               np.exp( - (bins - mu)**2 / (2 * sigma**2) ),\n",
    "         linewidth=2, color='r')\n",
    "plt.show()"
   ]
  },
  {
   "cell_type": "code",
   "execution_count": null,
   "id": "6ec1cbff",
   "metadata": {},
   "outputs": [],
   "source": []
  }
 ],
 "metadata": {
  "kernelspec": {
   "display_name": "Python 3 (ipykernel)",
   "language": "python",
   "name": "python3"
  },
  "language_info": {
   "codemirror_mode": {
    "name": "ipython",
    "version": 3
   },
   "file_extension": ".py",
   "mimetype": "text/x-python",
   "name": "python",
   "nbconvert_exporter": "python",
   "pygments_lexer": "ipython3",
   "version": "3.7.9"
  }
 },
 "nbformat": 4,
 "nbformat_minor": 5
}
