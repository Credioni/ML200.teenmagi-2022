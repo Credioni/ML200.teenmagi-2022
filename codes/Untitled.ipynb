{
 "cells": [
  {
   "cell_type": "code",
   "execution_count": 1,
   "id": "20fee3e5",
   "metadata": {},
   "outputs": [],
   "source": [
    "import imgaug.augmenters as iaa\n",
    "import imgaug as ia\n",
    "\n",
    "from utils import *\n",
    "import numpy as np\n",
    "import matplotlib.pyplot as plt"
   ]
  },
  {
   "cell_type": "code",
   "execution_count": 2,
   "id": "c4b8e7c5",
   "metadata": {},
   "outputs": [
    {
     "name": "stdout",
     "output_type": "stream",
     "text": [
      "Loaded grayscaled datasets\n"
     ]
    }
   ],
   "source": [
    "training_set_manager = TrainingSetManager()"
   ]
  },
  {
   "cell_type": "code",
   "execution_count": 3,
   "id": "0ca6adfb",
   "metadata": {},
   "outputs": [],
   "source": [
    "with open(\"data/training_x.dat\", 'rb') as pickleFile:\n",
    "    vanilla_x = pickle.load(pickleFile)\n",
    "    del vanilla_x[216805]"
   ]
  },
  {
   "cell_type": "code",
   "execution_count": 4,
   "id": "a86485f0",
   "metadata": {},
   "outputs": [],
   "source": [
    "def load_batch(batch_idx):\n",
    "    # dummy function, implement this\n",
    "    # Return a numpy array of shape (N, height, width, #channels)\n",
    "    # or a list of (height, width, #channels) arrays (may have different image\n",
    "    # sizes).\n",
    "    # Images should be in RGB for colorspace augmentations.\n",
    "    # (cv2.imread() returns BGR!)\n",
    "    # Images should usually be in uint8 with values from 0-255.\n",
    "    return np.zeros((128, 32, 32, 3), dtype=np.uint8) + (batch_idx % 255)"
   ]
  },
  {
   "cell_type": "code",
   "execution_count": 10,
   "id": "40a003ca",
   "metadata": {},
   "outputs": [],
   "source": [
    "vanilla_x = np.array(vanilla_x, dtype=np.uint8) + (1 % 255)\n",
    "vanilla_x = vanilla_x[:2]"
   ]
  },
  {
   "cell_type": "code",
   "execution_count": 34,
   "id": "7c91a81b",
   "metadata": {},
   "outputs": [],
   "source": [
    "sometimes = lambda aug: iaa.Sometimes(1, aug)\n",
    "\n",
    "seq = iaa.Sequential([\n",
    "    #sometimes(\n",
    "        iaa.CropAndPad( px=(-2, 2), pad_mode=ia.ALL, pad_cval=(0, 0), sample_independently=False)\n",
    "    #),\n",
    "])"
   ]
  },
  {
   "cell_type": "code",
   "execution_count": 37,
   "id": "4f595416",
   "metadata": {},
   "outputs": [
    {
     "data": {
      "image/png": "[encoded data removed]",
      "text/plain": [
       "<Figure size 432x288 with 1 Axes>"
      ]
     },
     "metadata": {
      "needs_background": "light"
     },
     "output_type": "display_data"
    },
    {
     "data": {
      "text/plain": [
       "<matplotlib.image.AxesImage at 0x21d8e2da3c8>"
      ]
     },
     "execution_count": 37,
     "metadata": {},
     "output_type": "execute_result"
    },
    {
     "data": {
      "image/png": "[encoded data removed]",
      "text/plain": [
       "<Figure size 432x288 with 1 Axes>"
      ]
     },
     "metadata": {
      "needs_background": "light"
     },
     "output_type": "display_data"
    }
   ],
   "source": [
    "images_aug = seq(images=vanilla_x) \n",
    "\n",
    "plt.imshow(vanilla_x[1])\n",
    "plt.show()\n",
    "plt.imshow(images_aug[1])"
   ]
  },
  {
   "cell_type": "code",
   "execution_count": 38,
   "id": "d5b596bc",
   "metadata": {},
   "outputs": [],
   "source": []
  },
  {
   "cell_type": "code",
   "execution_count": 54,
   "id": "5a13a041",
   "metadata": {},
   "outputs": [
    {
     "name": "stdout",
     "output_type": "stream",
     "text": [
      "[[0 0 1 0]\n",
      " [0 0 1 0]]\n"
     ]
    }
   ],
   "source": [
    "a = np.array([[0,0,0,0], [0,0,0,0]])\n",
    "p = np.array([0, 1])\n",
    "a[p,[2,2]] = 1\n",
    "\n",
    "print(a)"
   ]
  },
  {
   "cell_type": "code",
   "execution_count": null,
   "id": "cae37e5c",
   "metadata": {},
   "outputs": [],
   "source": []
  }
 ],
 "metadata": {
  "kernelspec": {
   "display_name": "Python 3 (ipykernel)",
   "language": "python",
   "name": "python3"
  },
  "language_info": {
   "codemirror_mode": {
    "name": "ipython",
    "version": 3
   },
   "file_extension": ".py",
   "mimetype": "text/x-python",
   "name": "python",
   "nbconvert_exporter": "python",
   "pygments_lexer": "ipython3",
   "version": "3.7.9"
  }
 },
 "nbformat": 4,
 "nbformat_minor": 5
}
